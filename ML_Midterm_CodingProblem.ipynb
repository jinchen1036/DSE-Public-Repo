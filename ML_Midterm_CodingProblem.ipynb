{
  "nbformat": 4,
  "nbformat_minor": 0,
  "metadata": {
    "colab": {
      "name": "ML_Midterm_CodingProblem.ipynb",
      "provenance": [],
      "toc_visible": true
    },
    "kernelspec": {
      "name": "python3",
      "display_name": "Python 3"
    },
    "language_info": {
      "name": "python"
    }
  },
  "cells": [
    {
      "cell_type": "markdown",
      "metadata": {
        "id": "hAkKgG9hDW7p"
      },
      "source": [
        "# Coding Problems"
      ]
    },
    {
      "cell_type": "markdown",
      "metadata": {
        "id": "HdHEVow3DoF2"
      },
      "source": [
        "## 1. Data Preprocessing \n",
        "\n",
        "1. Load Data - Wine Dataset from Sklearn\n",
        "2. Check for missing values\n",
        "3. Encode numerical column \n",
        "  - Packages that can be used\n",
        "    - sklearn: LabelEncoder, OneHotEncoder\n",
        "    - pandas: map with dict\n",
        "4. Stratify train test split -> 70% Train and 30% Test\n"
      ]
    },
    {
      "cell_type": "markdown",
      "metadata": {
        "id": "fVRF_i9kFIhH"
      },
      "source": [
        "## 2. Feature Selection\n",
        "  1. Train the Random Forest model on the train data\n",
        "  2. Select top 5 features by look at the feature importance of the RF for both train and test set"
      ]
    },
    {
      "cell_type": "markdown",
      "metadata": {
        "id": "USaW9h64EGtL"
      },
      "source": [
        "## 3. Dimension Reduction\n",
        "  1. Standarize the train and test data\n",
        "  2. Using PCA to transform the X into 2 components \n",
        "    - visualize the component with scatter plot and color label \n",
        "  \n",
        "    "
      ]
    },
    {
      "cell_type": "markdown",
      "metadata": {
        "id": "nP-_TN0dFy5i"
      },
      "source": [
        "## 4. Model Training\n",
        "  1. Select 2 Models for the dataset \n",
        "  2. Train the 2 models\n",
        "  3. Compare the model performance\n",
        "    - look over the accuracy, Precision and recall value\n",
        "  4. Which model is better and why\n",
        "  "
      ]
    },
    {
      "cell_type": "markdown",
      "metadata": {
        "id": "3wVR52LUGMzt"
      },
      "source": [
        "## 5. Pipeline\n",
        "  1. Create the pipeline that consist data transformer and selected model from above\n",
        "  2. Pass the pipeline into GridsearchCV\n",
        "  3. Find the best hyperparameter of the selected model"
      ]
    },
    {
      "cell_type": "code",
      "metadata": {
        "id": "OoLPe-N-EF8h"
      },
      "source": [
        ""
      ],
      "execution_count": null,
      "outputs": []
    }
  ]
}